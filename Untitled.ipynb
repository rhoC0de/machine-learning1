{
 "cells": [
  {
   "cell_type": "code",
   "execution_count": null,
   "metadata": {},
   "outputs": [
    {
     "name": "stdout",
     "output_type": "stream",
     "text": [
      "Collecting pandas-profiling\n",
      "  Downloading https://files.pythonhosted.org/packages/01/c4/8b583814c4a0b9abf86cefeac522fde88412256fd769b2e4adc9b2197b6d/pandas-profiling-2.0.3.tar.gz (99kB)\n",
      "Requirement already satisfied: pandas>=0.19 in c:\\users\\mest\\anaconda3\\lib\\site-packages (from pandas-profiling) (0.23.4)\n",
      "Requirement already satisfied: matplotlib>=1.4 in c:\\users\\mest\\anaconda3\\lib\\site-packages (from pandas-profiling) (2.2.3)\n",
      "Requirement already satisfied: jinja2>=2.8 in c:\\users\\mest\\anaconda3\\lib\\site-packages (from pandas-profiling) (2.10)\n",
      "Collecting missingno>=0.4.1 (from pandas-profiling)\n",
      "  Downloading https://files.pythonhosted.org/packages/57/eb/9d7d55ceec57e0e374e70e9ad8d16795ba91960a3c987f3b5ee71d3e8e4d/missingno-0.4.1-py3-none-any.whl\n",
      "Collecting htmlmin>=0.1.12 (from pandas-profiling)\n",
      "  Downloading https://files.pythonhosted.org/packages/b3/e7/fcd59e12169de19f0131ff2812077f964c6b960e7c09804d30a7bf2ab461/htmlmin-0.1.12.tar.gz\n",
      "Collecting phik>=0.9.8 (from pandas-profiling)\n",
      "  Downloading https://files.pythonhosted.org/packages/45/ad/24a16fa4ba612fb96a3c4bb115a5b9741483f53b66d3d3afd987f20fa227/phik-0.9.8-py3-none-any.whl (606kB)\n",
      "Collecting confuse>=1.0.0 (from pandas-profiling)\n",
      "  Downloading https://files.pythonhosted.org/packages/4c/6f/90e860cba937c174d8b3775729ccc6377eb91f52ad4eeb008e7252a3646d/confuse-1.0.0.tar.gz\n",
      "Requirement already satisfied: python-dateutil>=2.5.0 in c:\\users\\mest\\anaconda3\\lib\\site-packages (from pandas>=0.19->pandas-profiling) (2.7.3)\n",
      "Requirement already satisfied: pytz>=2011k in c:\\users\\mest\\anaconda3\\lib\\site-packages (from pandas>=0.19->pandas-profiling) (2018.5)\n",
      "Requirement already satisfied: numpy>=1.9.0 in c:\\users\\mest\\anaconda3\\lib\\site-packages (from pandas>=0.19->pandas-profiling) (1.15.1)\n",
      "Requirement already satisfied: cycler>=0.10 in c:\\users\\mest\\anaconda3\\lib\\site-packages (from matplotlib>=1.4->pandas-profiling) (0.10.0)\n",
      "Requirement already satisfied: pyparsing!=2.0.4,!=2.1.2,!=2.1.6,>=2.0.1 in c:\\users\\mest\\anaconda3\\lib\\site-packages (from matplotlib>=1.4->pandas-profiling) (2.2.0)\n",
      "Requirement already satisfied: six>=1.10 in c:\\users\\mest\\anaconda3\\lib\\site-packages (from matplotlib>=1.4->pandas-profiling) (1.11.0)\n",
      "Requirement already satisfied: kiwisolver>=1.0.1 in c:\\users\\mest\\anaconda3\\lib\\site-packages (from matplotlib>=1.4->pandas-profiling) (1.0.1)\n",
      "Requirement already satisfied: MarkupSafe>=0.23 in c:\\users\\mest\\anaconda3\\lib\\site-packages (from jinja2>=2.8->pandas-profiling) (1.0)\n",
      "Requirement already satisfied: seaborn in c:\\users\\mest\\anaconda3\\lib\\site-packages (from missingno>=0.4.1->pandas-profiling) (0.9.0)\n",
      "Requirement already satisfied: scipy in c:\\users\\mest\\anaconda3\\lib\\site-packages (from missingno>=0.4.1->pandas-profiling) (1.1.0)\n",
      "Collecting pytest>=4.0.2 (from phik>=0.9.8->pandas-profiling)\n",
      "  Downloading https://files.pythonhosted.org/packages/4c/35/e13740d90c413fb5ec3c9b5243f79981f7bc759f4a12a959d8dadd57f971/pytest-5.0.0-py3-none-any.whl (221kB)\n",
      "Requirement already satisfied: nbconvert>=5.3.1 in c:\\users\\mest\\anaconda3\\lib\\site-packages (from phik>=0.9.8->pandas-profiling) (5.4.0)\n",
      "Collecting pytest-pylint>=0.13.0 (from phik>=0.9.8->pandas-profiling)\n",
      "  Downloading https://files.pythonhosted.org/packages/48/b1/b9b5e20e6687cfaa334d0e8e63b6d57115415d6368b7f5a441a8f600fad4/pytest_pylint-0.14.0-py3-none-any.whl\n",
      "Requirement already satisfied: numba>=0.38.1 in c:\\users\\mest\\anaconda3\\lib\\site-packages (from phik>=0.9.8->pandas-profiling) (0.39.0)\n",
      "Requirement already satisfied: jupyter-client>=5.2.3 in c:\\users\\mest\\anaconda3\\lib\\site-packages (from phik>=0.9.8->pandas-profiling) (5.2.3)\n",
      "Requirement already satisfied: pyyaml in c:\\users\\mest\\anaconda3\\lib\\site-packages (from confuse>=1.0.0->pandas-profiling) (3.13)\n",
      "Requirement already satisfied: setuptools in c:\\users\\mest\\anaconda3\\lib\\site-packages (from kiwisolver>=1.0.1->matplotlib>=1.4->pandas-profiling) (40.2.0)\n",
      "Requirement already satisfied: more-itertools>=4.0.0 in c:\\users\\mest\\anaconda3\\lib\\site-packages (from pytest>=4.0.2->phik>=0.9.8->pandas-profiling) (4.3.0)\n",
      "Requirement already satisfied: wcwidth in c:\\users\\mest\\anaconda3\\lib\\site-packages (from pytest>=4.0.2->phik>=0.9.8->pandas-profiling) (0.1.7)\n",
      "Requirement already satisfied: py>=1.5.0 in c:\\users\\mest\\anaconda3\\lib\\site-packages (from pytest>=4.0.2->phik>=0.9.8->pandas-profiling) (1.6.0)\n",
      "Collecting importlib-metadata>=0.12 (from pytest>=4.0.2->phik>=0.9.8->pandas-profiling)\n",
      "  Downloading https://files.pythonhosted.org/packages/bd/23/dce4879ec58acf3959580bfe769926ed8198727250c5e395e6785c764a02/importlib_metadata-0.18-py2.py3-none-any.whl\n",
      "Requirement already satisfied: colorama; sys_platform == \"win32\" in c:\\users\\mest\\anaconda3\\lib\\site-packages (from pytest>=4.0.2->phik>=0.9.8->pandas-profiling) (0.3.9)\n",
      "Requirement already satisfied: attrs>=17.4.0 in c:\\users\\mest\\anaconda3\\lib\\site-packages (from pytest>=4.0.2->phik>=0.9.8->pandas-profiling) (18.2.0)\n",
      "Requirement already satisfied: atomicwrites>=1.0 in c:\\users\\mest\\anaconda3\\lib\\site-packages (from pytest>=4.0.2->phik>=0.9.8->pandas-profiling) (1.2.1)\n",
      "Requirement already satisfied: packaging in c:\\users\\mest\\anaconda3\\lib\\site-packages (from pytest>=4.0.2->phik>=0.9.8->pandas-profiling) (17.1)\n",
      "Collecting pluggy<1.0,>=0.12 (from pytest>=4.0.2->phik>=0.9.8->pandas-profiling)\n",
      "  Downloading https://files.pythonhosted.org/packages/06/ee/de89e0582276e3551df3110088bf20844de2b0e7df2748406876cc78e021/pluggy-0.12.0-py2.py3-none-any.whl\n",
      "Requirement already satisfied: mistune>=0.8.1 in c:\\users\\mest\\anaconda3\\lib\\site-packages (from nbconvert>=5.3.1->phik>=0.9.8->pandas-profiling) (0.8.3)\n",
      "Requirement already satisfied: pygments in c:\\users\\mest\\anaconda3\\lib\\site-packages (from nbconvert>=5.3.1->phik>=0.9.8->pandas-profiling) (2.2.0)\n",
      "Requirement already satisfied: traitlets>=4.2 in c:\\users\\mest\\anaconda3\\lib\\site-packages (from nbconvert>=5.3.1->phik>=0.9.8->pandas-profiling) (4.3.2)\n",
      "Requirement already satisfied: jupyter_core in c:\\users\\mest\\anaconda3\\lib\\site-packages (from nbconvert>=5.3.1->phik>=0.9.8->pandas-profiling) (4.4.0)\n",
      "Requirement already satisfied: nbformat>=4.4 in c:\\users\\mest\\anaconda3\\lib\\site-packages (from nbconvert>=5.3.1->phik>=0.9.8->pandas-profiling) (4.4.0)\n",
      "Requirement already satisfied: entrypoints>=0.2.2 in c:\\users\\mest\\anaconda3\\lib\\site-packages (from nbconvert>=5.3.1->phik>=0.9.8->pandas-profiling) (0.2.3)\n",
      "Requirement already satisfied: bleach in c:\\users\\mest\\anaconda3\\lib\\site-packages (from nbconvert>=5.3.1->phik>=0.9.8->pandas-profiling) (2.1.4)\n",
      "Requirement already satisfied: pandocfilters>=1.4.1 in c:\\users\\mest\\anaconda3\\lib\\site-packages (from nbconvert>=5.3.1->phik>=0.9.8->pandas-profiling) (1.4.2)\n",
      "Requirement already satisfied: testpath in c:\\users\\mest\\anaconda3\\lib\\site-packages (from nbconvert>=5.3.1->phik>=0.9.8->pandas-profiling) (0.3.1)\n",
      "Requirement already satisfied: defusedxml in c:\\users\\mest\\anaconda3\\lib\\site-packages (from nbconvert>=5.3.1->phik>=0.9.8->pandas-profiling) (0.5.0)\n",
      "Requirement already satisfied: pylint>=1.4.5 in c:\\users\\mest\\anaconda3\\lib\\site-packages (from pytest-pylint>=0.13.0->phik>=0.9.8->pandas-profiling) (2.1.1)\n",
      "Requirement already satisfied: llvmlite>=0.24.0dev0 in c:\\users\\mest\\anaconda3\\lib\\site-packages (from numba>=0.38.1->phik>=0.9.8->pandas-profiling) (0.24.0)\n",
      "Requirement already satisfied: pyzmq>=13 in c:\\users\\mest\\anaconda3\\lib\\site-packages (from jupyter-client>=5.2.3->phik>=0.9.8->pandas-profiling) (17.1.2)\n",
      "Requirement already satisfied: tornado>=4.1 in c:\\users\\mest\\anaconda3\\lib\\site-packages (from jupyter-client>=5.2.3->phik>=0.9.8->pandas-profiling) (5.1)\n",
      "Collecting zipp>=0.5 (from importlib-metadata>=0.12->pytest>=4.0.2->phik>=0.9.8->pandas-profiling)\n",
      "  Downloading https://files.pythonhosted.org/packages/a0/0f/9bf71d438d2e9d5fd0e4569ea4d1a2b6f5a524c234c6d221b494298bb4d1/zipp-0.5.1-py2.py3-none-any.whl\n",
      "Requirement already satisfied: ipython-genutils in c:\\users\\mest\\anaconda3\\lib\\site-packages (from traitlets>=4.2->nbconvert>=5.3.1->phik>=0.9.8->pandas-profiling) (0.2.0)\n",
      "Requirement already satisfied: decorator in c:\\users\\mest\\anaconda3\\lib\\site-packages (from traitlets>=4.2->nbconvert>=5.3.1->phik>=0.9.8->pandas-profiling) (4.3.0)\n",
      "Requirement already satisfied: jsonschema!=2.5.0,>=2.4 in c:\\users\\mest\\anaconda3\\lib\\site-packages (from nbformat>=4.4->nbconvert>=5.3.1->phik>=0.9.8->pandas-profiling) (2.6.0)\n",
      "Requirement already satisfied: html5lib!=1.0b1,!=1.0b2,!=1.0b3,!=1.0b4,!=1.0b5,!=1.0b6,!=1.0b7,!=1.0b8,>=0.99999999pre in c:\\users\\mest\\anaconda3\\lib\\site-packages (from bleach->nbconvert>=5.3.1->phik>=0.9.8->pandas-profiling) (1.0.1)\n",
      "Requirement already satisfied: mccabe in c:\\users\\mest\\anaconda3\\lib\\site-packages (from pylint>=1.4.5->pytest-pylint>=0.13.0->phik>=0.9.8->pandas-profiling) (0.6.1)\n",
      "Requirement already satisfied: isort>=4.2.5 in c:\\users\\mest\\anaconda3\\lib\\site-packages (from pylint>=1.4.5->pytest-pylint>=0.13.0->phik>=0.9.8->pandas-profiling) (4.3.4)\n",
      "Requirement already satisfied: astroid>=2.0.0 in c:\\users\\mest\\anaconda3\\lib\\site-packages (from pylint>=1.4.5->pytest-pylint>=0.13.0->phik>=0.9.8->pandas-profiling) (2.0.4)\n",
      "Requirement already satisfied: webencodings in c:\\users\\mest\\anaconda3\\lib\\site-packages (from html5lib!=1.0b1,!=1.0b2,!=1.0b3,!=1.0b4,!=1.0b5,!=1.0b6,!=1.0b7,!=1.0b8,>=0.99999999pre->bleach->nbconvert>=5.3.1->phik>=0.9.8->pandas-profiling) (0.5.1)\n",
      "Requirement already satisfied: lazy-object-proxy in c:\\users\\mest\\anaconda3\\lib\\site-packages (from astroid>=2.0.0->pylint>=1.4.5->pytest-pylint>=0.13.0->phik>=0.9.8->pandas-profiling) (1.3.1)\n",
      "Requirement already satisfied: wrapt in c:\\users\\mest\\anaconda3\\lib\\site-packages (from astroid>=2.0.0->pylint>=1.4.5->pytest-pylint>=0.13.0->phik>=0.9.8->pandas-profiling) (1.10.11)\n",
      "Building wheels for collected packages: pandas-profiling, htmlmin, confuse\n",
      "  Running setup.py bdist_wheel for pandas-profiling: started\n",
      "  Running setup.py bdist_wheel for pandas-profiling: finished with status 'done'\n",
      "  Stored in directory: C:\\Users\\MEST\\AppData\\Local\\pip\\Cache\\wheels\\de\\fa\\81\\8b11e2f880de26a9bd3fb983bbf30068edfc8f2d1bb9e437ab\n",
      "  Running setup.py bdist_wheel for htmlmin: started\n",
      "  Running setup.py bdist_wheel for htmlmin: finished with status 'done'\n",
      "  Stored in directory: C:\\Users\\MEST\\AppData\\Local\\pip\\Cache\\wheels\\43\\07\\ac\\7c5a9d708d65247ac1f94066cf1db075540b85716c30255459\n",
      "  Running setup.py bdist_wheel for confuse: started\n",
      "  Running setup.py bdist_wheel for confuse: finished with status 'done'\n",
      "  Stored in directory: C:\\Users\\MEST\\AppData\\Local\\pip\\Cache\\wheels\\b0\\b2\\96\\2074eee7dbf7b7df69d004c9b6ac4e32dad04fb7666cf943bd\n",
      "Successfully built pandas-profiling htmlmin confuse\n",
      "Installing collected packages: missingno, htmlmin, zipp, importlib-metadata, pluggy, pytest, pytest-pylint, phik, confuse, pandas-profiling\n",
      "  Found existing installation: pluggy 0.7.1\n",
      "    Uninstalling pluggy-0.7.1:\n",
      "      Successfully uninstalled pluggy-0.7.1\n",
      "  Found existing installation: pytest 3.8.0\n",
      "    Uninstalling pytest-3.8.0:\n",
      "      Successfully uninstalled pytest-3.8.0\n",
      "Successfully installed confuse-1.0.0 htmlmin-0.1.12 importlib-metadata-0.18 missingno-0.4.1 pandas-profiling-2.0.3 phik-0.9.8 pluggy-0.12.0 pytest-5.0.0 pytest-pylint-0.14.0 zipp-0.5.1\n"
     ]
    },
    {
     "name": "stderr",
     "output_type": "stream",
     "text": [
      "twisted 18.7.0 requires PyHamcrest>=1.9.0, which is not installed.\n",
      "phik 0.9.8 has requirement numpy>=1.15.4, but you'll have numpy 1.15.1 which is incompatible.\n",
      "You are using pip version 10.0.1, however version 19.1.1 is available.\n",
      "You should consider upgrading via the 'python -m pip install --upgrade pip' command.\n"
     ]
    }
   ],
   "source": [
    "!pip install pandas-profiling\n",
    "!pip install cufflinks\n",
    "!pip install plotly"
   ]
  },
  {
   "cell_type": "code",
   "execution_count": null,
   "metadata": {},
   "outputs": [],
   "source": [
    "importnum"
   ]
  }
 ],
 "metadata": {
  "kernelspec": {
   "display_name": "Python 3",
   "language": "python",
   "name": "python3"
  },
  "language_info": {
   "codemirror_mode": {
    "name": "ipython",
    "version": 3
   },
   "file_extension": ".py",
   "mimetype": "text/x-python",
   "name": "python",
   "nbconvert_exporter": "python",
   "pygments_lexer": "ipython3",
   "version": "3.7.0"
  }
 },
 "nbformat": 4,
 "nbformat_minor": 2
}
